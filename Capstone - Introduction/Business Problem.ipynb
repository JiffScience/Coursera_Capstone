{
    "cells": [
        {
            "cell_type": "markdown",
            "metadata": {
                "collapsed": true
            },
            "source": "# _Battle of the Neighborhoods - Concert Venues_"
        },
        {
            "cell_type": "markdown",
            "metadata": {},
            "source": "I am a musician, drum corps alumni/fanatic and therefore like to choose my travel and vacations based upon density and location of concert venues.  I am in the process of saving money for a big vacation for when cities and venues open post-COVID-19.  The following cities are on my bucket list:\n\n- New York, NY\n- San Francisco, CA\n- Seattle, WA\n- Boston, MA\n- Chicago, IL\n\nI will make my selection based on a combination of density and location of concert venues.  While I understand each of the above cities host a number of events on a regular basis, I am not sure of the density of said venues nor where I should make a hotel reservation.  The problem I want to solve is to analyze concert venue locations in the above cities and find a convenient area to make a hotel reservation."
        },
        {
            "cell_type": "code",
            "execution_count": null,
            "metadata": {},
            "outputs": [],
            "source": ""
        }
    ],
    "metadata": {
        "kernelspec": {
            "display_name": "Python 3.6",
            "language": "python",
            "name": "python3"
        },
        "language_info": {
            "codemirror_mode": {
                "name": "ipython",
                "version": 3
            },
            "file_extension": ".py",
            "mimetype": "text/x-python",
            "name": "python",
            "nbconvert_exporter": "python",
            "pygments_lexer": "ipython3",
            "version": "3.6.9"
        }
    },
    "nbformat": 4,
    "nbformat_minor": 1
}